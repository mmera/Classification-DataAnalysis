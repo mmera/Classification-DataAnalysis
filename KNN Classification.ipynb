{
 "cells": [
  {
   "cell_type": "code",
   "execution_count": 7,
   "metadata": {
    "collapsed": true
   },
   "outputs": [],
   "source": [
    "import numpy as np"
   ]
  },
  {
   "cell_type": "code",
   "execution_count": 8,
   "metadata": {
    "collapsed": false
   },
   "outputs": [
    {
     "name": "stdout",
     "output_type": "stream",
     "text": [
      "/Users/Marco/Documents/CSC 478/newsgroups\n"
     ]
    }
   ],
   "source": [
    "cd /Users/Marco/documents/CSC 478/newsgroups"
   ]
  },
  {
   "cell_type": "code",
   "execution_count": 9,
   "metadata": {
    "collapsed": true
   },
   "outputs": [],
   "source": [
    "news_test = np.loadtxt(\"testMatrixModified.txt\").T\n",
    "news_train = np.loadtxt(\"trainMatrixModified.txt\").T"
   ]
  },
  {
   "cell_type": "code",
   "execution_count": 10,
   "metadata": {
    "collapsed": false
   },
   "outputs": [],
   "source": [
    "news_test_norm  = news_test/np.linalg.norm(news_test)\n",
    "news_train_norm = news_train/np.linalg.norm(news_train)"
   ]
  },
  {
   "cell_type": "code",
   "execution_count": 11,
   "metadata": {
    "collapsed": true
   },
   "outputs": [],
   "source": [
    "test_label  = np.loadtxt(\"testClasses.txt\")\n",
    "train_label = np.loadtxt(\"trainClasses.txt\")"
   ]
  },
  {
   "cell_type": "code",
   "execution_count": 12,
   "metadata": {
    "collapsed": true
   },
   "outputs": [],
   "source": [
    "from collections import Counter\n",
    "def most_Common_list(list):\n",
    "    data = Counter(list)\n",
    "    return data.most_common(1)[0][0]"
   ]
  },
  {
   "cell_type": "markdown",
   "metadata": {},
   "source": [
    "## __1a.__\n",
    "__The classifier takes in the following parameters:__\n",
    "- training data matrix\n",
    "- the training labels\n",
    "- the instance being to be classified\n",
    "- the value of k\n",
    "- the similarity measure\n",
    "\n",
    "__It returns:__\n",
    "- the predicted class\n",
    "- the nearest K neighbors"
   ]
  },
  {
   "cell_type": "code",
   "execution_count": 62,
   "metadata": {
    "collapsed": true
   },
   "outputs": [],
   "source": [
    "def knn_search(instance,trainData,trainLabel,K,measure):\n",
    "    if measure == 0:\n",
    "        dists = np.sqrt(((trainData-instance)**2).sum(axis=1))\n",
    "    elif measure == 1: \n",
    "        t_norm = np.array([np.linalg.norm(trainData[i]) for i in range(len(trainData))])\n",
    "        i_norm = np.linalg.norm(instance)\n",
    "        sims = np.dot(trainData,instance)/(t_norm * i_norm)\n",
    "        dists = 1-sims\n",
    "  \n",
    "    idx = np.argsort(dists)\n",
    "    neighbor_idx = idx[:K]\n",
    "    neighbor_class = trainLabel[neighbor_idx]\n",
    "    n = neighbor_class.T\n",
    "    return most_Common_list(n[1])\n",
    "# ,n[0]"
   ]
  },
  {
   "cell_type": "code",
   "execution_count": 63,
   "metadata": {
    "collapsed": false
   },
   "outputs": [
    {
     "data": {
      "text/plain": [
       "1.0"
      ]
     },
     "execution_count": 63,
     "metadata": {},
     "output_type": "execute_result"
    }
   ],
   "source": [
    "knn_search(news_test_norm[0],news_train_norm,train_label,5,1)"
   ]
  },
  {
   "cell_type": "markdown",
   "metadata": {},
   "source": [
    "## __1b.__\n",
    "__The function takes in the following as parameters:__\n",
    "- the K Value\n",
    "- the similarity measure\n",
    "\n",
    "It loops through all test instances and then it returns \n",
    "the ratio of correct predictions to the number of \n",
    "test instances. "
   ]
  },
  {
   "cell_type": "code",
   "execution_count": 14,
   "metadata": {
    "collapsed": false
   },
   "outputs": [],
   "source": [
    "def accuracyTest(K,measure):\n",
    "    errorCount = 0.0\n",
    "    length = len(news_test)\n",
    "    for i in range(length):\n",
    "        classifierResult = knn_search(news_test_norm[i],news_train_norm,train_label,K,measure)\n",
    "        if (classifierResult != test_label[i][1]): errorCount += 1.0\n",
    "    number_correct = length - errorCount\n",
    "    result = (number_correct/float(length))\n",
    "    return result\n"
   ]
  },
  {
   "cell_type": "code",
   "execution_count": 15,
   "metadata": {
    "collapsed": true
   },
   "outputs": [],
   "source": [
    "%matplotlib inline\n",
    "import matplotlib.pyplot as plt"
   ]
  },
  {
   "cell_type": "markdown",
   "metadata": {},
   "source": [
    "## __1c.__\n",
    "A loop that runs the accuracy function on K values ranging from 1-20. "
   ]
  },
  {
   "cell_type": "code",
   "execution_count": 92,
   "metadata": {
    "collapsed": false
   },
   "outputs": [],
   "source": [
    "KNNe_results = []\n",
    "for i in range(1,21):\n",
    "    grade = accuracyTest(i,0)#Euclidean distance\n",
    "    KNNe_results.append(grade)\n"
   ]
  },
  {
   "cell_type": "code",
   "execution_count": 93,
   "metadata": {
    "collapsed": false
   },
   "outputs": [
    {
     "data": {
      "image/png": "[encoded data removed]",
      "text/plain": [
       "<matplotlib.figure.Figure at 0x10782c190>"
      ]
     },
     "metadata": {},
     "output_type": "display_data"
    }
   ],
   "source": [
    "plt.plot(KNNe_results)\n",
    "plt.xlabel('K Value')\n",
    "plt.ylabel('Results')\n",
    "plt.title('Accuracy of KNN Classifier (Euclidean Distance)')\n",
    "plt.show()"
   ]
  },
  {
   "cell_type": "code",
   "execution_count": 94,
   "metadata": {
    "collapsed": true
   },
   "outputs": [],
   "source": [
    "KNNc_results = []\n",
    "for i in range(1,21):\n",
    "    grade = accuracyTest(i,1)#Cosine similarity\n",
    "    KNNc_results.append(grade)\n"
   ]
  },
  {
   "cell_type": "code",
   "execution_count": 95,
   "metadata": {
    "collapsed": false
   },
   "outputs": [
    {
     "data": {
      "image/png": "[encoded data removed]",
      "text/plain": [
       "<matplotlib.figure.Figure at 0x10782c250>"
      ]
     },
     "metadata": {},
     "output_type": "display_data"
    }
   ],
   "source": [
    "plt.plot(KNNc_results)\n",
    "plt.xlabel('K Value')\n",
    "plt.ylabel('Results')\n",
    "plt.title('Accuracy of KNN Classifier (Cosine Similarity)')\n",
    "plt.show()"
   ]
  },
  {
   "cell_type": "markdown",
   "metadata": {},
   "source": [
    "**Processing data to convert to TFxIDF weights**"
   ]
  },
  {
   "cell_type": "code",
   "execution_count": 20,
   "metadata": {
    "collapsed": true
   },
   "outputs": [],
   "source": [
    "DT_test  = news_test[:]\n",
    "DT_train = news_train[:] "
   ]
  },
  {
   "cell_type": "code",
   "execution_count": 49,
   "metadata": {
    "collapsed": false
   },
   "outputs": [
    {
     "data": {
      "text/plain": [
       "(5500, 200)"
      ]
     },
     "execution_count": 49,
     "metadata": {},
     "output_type": "execute_result"
    }
   ],
   "source": [
    "TD_test = DT_test.T\n",
    "TD_train = DT_train.T"
   ]
  },
  {
   "cell_type": "code",
   "execution_count": 22,
   "metadata": {
    "collapsed": false
   },
   "outputs": [],
   "source": [
    "DF_test = np.array([(TD_test!=0).sum(1)]).T\n",
    "DF_train = np.array([(TD_train!=0).sum(1)]).T"
   ]
  },
  {
   "cell_type": "code",
   "execution_count": 23,
   "metadata": {
    "collapsed": false
   },
   "outputs": [],
   "source": [
    "DF_test = DF_test + 1\n",
    "DF_train = DF_train + 1"
   ]
  },
  {
   "cell_type": "code",
   "execution_count": 24,
   "metadata": {
    "collapsed": false
   },
   "outputs": [],
   "source": [
    "NDocs_test = len(DT_test[:,0])\n",
    "NDocs_train = len(DT_train[:,0])"
   ]
  },
  {
   "cell_type": "code",
   "execution_count": 29,
   "metadata": {
    "collapsed": false
   },
   "outputs": [],
   "source": [
    "NMatrix_test = np.ones(np.shape(TD_test),dtype=float)*NDocs_test\n",
    "NMatrix_train = np.ones(np.shape(TD_train),dtype=float)*NDocs_train"
   ]
  },
  {
   "cell_type": "code",
   "execution_count": 30,
   "metadata": {
    "collapsed": false
   },
   "outputs": [],
   "source": [
    "IDF_test = np.log2(np.divide(NMatrix_test,DF_test))\n",
    "IDF_train = np.log2(np.divide(NMatrix_train,DF_train))"
   ]
  },
  {
   "cell_type": "code",
   "execution_count": 31,
   "metadata": {
    "collapsed": false
   },
   "outputs": [],
   "source": [
    "TD_test_tdidf=TD_test*IDF_test\n",
    "TD_train_tdidf=TD_train*IDF_train"
   ]
  },
  {
   "cell_type": "code",
   "execution_count": 52,
   "metadata": {
    "collapsed": false
   },
   "outputs": [
    {
     "name": "stdout",
     "output_type": "stream",
     "text": [
      "(800, 5500)\n"
     ]
    }
   ],
   "source": [
    "DT_test_tdidf=TD_test_tdidf.T\n",
    "DT_train_tdidf=TD_train_tdidf.T"
   ]
  },
  {
   "cell_type": "markdown",
   "metadata": {},
   "source": [
    "## __1d.__\n",
    "Function to test the classifier using the TFxIDF weights.\n",
    "Then I rerun the evaluation on the K values for both the Euclidean distance measure and the cosine similarity measure. "
   ]
  },
  {
   "cell_type": "code",
   "execution_count": 34,
   "metadata": {
    "collapsed": true
   },
   "outputs": [],
   "source": [
    "def accuracyTestTFIDF(K,measure):\n",
    "    errorCount = 0.0\n",
    "    length = len(news_test)\n",
    "    for i in range(length):\n",
    "        classifierResult = knn_search(DT_test_tdidf[i],DT_train_tdidf,train_label,K,measure)\n",
    "        if (classifierResult != test_label[i][1]): errorCount += 1.0\n",
    "    number_correct = length - errorCount\n",
    "    result = (number_correct/float(length))\n",
    "    return result"
   ]
  },
  {
   "cell_type": "code",
   "execution_count": 96,
   "metadata": {
    "collapsed": true
   },
   "outputs": [],
   "source": [
    "TFIDFresultsE = []\n",
    "for i in range(1,21):\n",
    "    grade = accuracyTestTFIDF(i,0)#Euclidean distance\n",
    "    TFIDFresultsE.append(grade)"
   ]
  },
  {
   "cell_type": "code",
   "execution_count": 106,
   "metadata": {
    "collapsed": false
   },
   "outputs": [
    {
     "data": {
      "image/png": "[encoded data removed]",
      "text/plain": [
       "<matplotlib.figure.Figure at 0x10c6a53d0>"
      ]
     },
     "metadata": {},
     "output_type": "display_data"
    }
   ],
   "source": [
    "plt.plot(TFIDFresultsE)\n",
    "plt.plot(KNNe_results)\n",
    "plt.legend(['TFxIDF','Standard'])\n",
    "plt.xlabel('K Value')\n",
    "plt.ylabel('Results')\n",
    "plt.title('Accuracy of KNN Classifier (Euclidean Distance)')\n",
    "plt.show()"
   ]
  },
  {
   "cell_type": "code",
   "execution_count": 100,
   "metadata": {
    "collapsed": false,
    "scrolled": false
   },
   "outputs": [
    {
     "ename": "NameError",
     "evalue": "name 'TFIDresultsC' is not defined",
     "output_type": "error",
     "traceback": [
      "\u001b[0;31m---------------------------------------------------------------------------\u001b[0m",
      "\u001b[0;31mNameError\u001b[0m                                 Traceback (most recent call last)",
      "\u001b[0;32m<ipython-input-100-ff351ea65ad8>\u001b[0m in \u001b[0;36m<module>\u001b[0;34m()\u001b[0m\n\u001b[1;32m      3\u001b[0m     \u001b[0mgrade\u001b[0m \u001b[0;34m=\u001b[0m \u001b[0maccuracyTestTFIDF\u001b[0m\u001b[0;34m(\u001b[0m\u001b[0mi\u001b[0m\u001b[0;34m,\u001b[0m\u001b[0;36m1\u001b[0m\u001b[0;34m)\u001b[0m\u001b[0;31m#Cosine similarity\u001b[0m\u001b[0;34m\u001b[0m\u001b[0m\n\u001b[1;32m      4\u001b[0m     \u001b[0mTFIDFresultsC\u001b[0m\u001b[0;34m.\u001b[0m\u001b[0mappend\u001b[0m\u001b[0;34m(\u001b[0m\u001b[0mgrade\u001b[0m\u001b[0;34m)\u001b[0m\u001b[0;34m\u001b[0m\u001b[0m\n\u001b[0;32m----> 5\u001b[0;31m \u001b[0mTFIDresultsC\u001b[0m\u001b[0;34m\u001b[0m\u001b[0m\n\u001b[0m",
      "\u001b[0;31mNameError\u001b[0m: name 'TFIDresultsC' is not defined"
     ]
    }
   ],
   "source": [
    "TFIDFresultsC = []\n",
    "for i in range(1,21):\n",
    "    grade = accuracyTestTFIDF(i,1)#Cosine similarity\n",
    "    TFIDFresultsC.append(grade)"
   ]
  },
  {
   "cell_type": "code",
   "execution_count": 102,
   "metadata": {
    "collapsed": false
   },
   "outputs": [
    {
     "data": {
      "text/plain": [
       "[0.965,\n",
       " 0.965,\n",
       " 0.965,\n",
       " 0.975,\n",
       " 0.97,\n",
       " 0.97,\n",
       " 0.985,\n",
       " 0.985,\n",
       " 0.99,\n",
       " 0.995,\n",
       " 0.99,\n",
       " 0.995,\n",
       " 0.995,\n",
       " 0.995,\n",
       " 0.995,\n",
       " 0.99,\n",
       " 0.995,\n",
       " 0.99,\n",
       " 0.995,\n",
       " 0.995]"
      ]
     },
     "execution_count": 102,
     "metadata": {},
     "output_type": "execute_result"
    }
   ],
   "source": [
    "TFIDFresultsC"
   ]
  },
  {
   "cell_type": "code",
   "execution_count": 109,
   "metadata": {
    "collapsed": false
   },
   "outputs": [
    {
     "data": {
      "image/png": "[encoded data removed]",
      "text/plain": [
       "<matplotlib.figure.Figure at 0x11f39ed90>"
      ]
     },
     "metadata": {},
     "output_type": "display_data"
    }
   ],
   "source": [
    "plt.plot(TFIDFresultsC)\n",
    "plt.plot(KNNc_results)\n",
    "plt.legend(['TFxIDF','Standard'],loc='upper left')\n",
    "plt.xlabel('K Value')\n",
    "plt.ylabel('Results')\n",
    "plt.title('Accuracy of KNN Classifier (Cosine Similarity)')\n",
    "plt.show()"
   ]
  },
  {
   "cell_type": "markdown",
   "metadata": {},
   "source": [
    "## __1e.__\n",
    "First I add up the corresponding document arrays and then I have a vector for class 0 and class 1. Then in the classifier I compare a test document to the class vectors and return the closest match."
   ]
  },
  {
   "cell_type": "code",
   "execution_count": 57,
   "metadata": {
    "collapsed": false
   },
   "outputs": [],
   "source": [
    "class0 = np.zeros_like(DT_train_tdidf[0])\n",
    "class1 = np.zeros_like(DT_train_tdidf[0])\n",
    "\n",
    "for i in range(800):\n",
    "    if train_label[i][1]==0:\n",
    "        class0 = np.add(class0,DT_train_tdidf[i])\n",
    "    elif train_label[i][1]==1:\n",
    "        class1 = np.add(class1,DT_train_tdidf[i])"
   ]
  },
  {
   "cell_type": "code",
   "execution_count": 88,
   "metadata": {
    "collapsed": false
   },
   "outputs": [],
   "source": [
    "from scipy import spatial as sp\n",
    "def rocchio_classifier(instance,trainData1,trainData2):\n",
    "    s1 = sp.distance.cosine(trainData1,instance)\n",
    "    s2 = sp.distance.cosine(trainData2,instance)\n",
    "    if s1<s2:\n",
    "        print \"The predicted class is 0, the distances are class 0: %s and class 1: %s\"%(s1,s2)\n",
    "        return 0\n",
    "    elif s2<s1:\n",
    "        print \"The predicted class is 1, the distances are class 0: %s and class 1: %s\"%(s1,s2)\n",
    "        return 1\n",
    "    "
   ]
  },
  {
   "cell_type": "code",
   "execution_count": 89,
   "metadata": {
    "collapsed": false
   },
   "outputs": [
    {
     "name": "stdout",
     "output_type": "stream",
     "text": [
      "The predicted class is 0, the distances are class 0: 0.632460256175 and class 1: 0.938841038254\n"
     ]
    },
    {
     "data": {
      "text/plain": [
       "0"
      ]
     },
     "execution_count": 89,
     "metadata": {},
     "output_type": "execute_result"
    }
   ],
   "source": [
    "rocchio_classifier(DT_test_tdidf[20],class0,class1)"
   ]
  },
  {
   "cell_type": "code",
   "execution_count": 90,
   "metadata": {
    "collapsed": true
   },
   "outputs": [],
   "source": [
    "def accuracyTestRocchio():\n",
    "    errorCount = 0.0\n",
    "    length = len(news_test)\n",
    "    for i in range(length):\n",
    "        classifierResult = rocchio_classifier(DT_test_tdidf[i],class0,class1)\n",
    "        if (classifierResult != test_label[i][1]): errorCount += 1.0\n",
    "    number_correct = length - errorCount\n",
    "    result = (number_correct/float(length))\n",
    "    return result"
   ]
  },
  {
   "cell_type": "code",
   "execution_count": 91,
   "metadata": {
    "collapsed": false
   },
   "outputs": [
    {
     "name": "stdout",
     "output_type": "stream",
     "text": [
      "The predicted class is 1, the distances are class 0: 0.931940810385 and class 1: 0.739660478494\n",
      "The predicted class is 0, the distances are class 0: 0.795983010099 and class 1: 0.947069860437\n",
      "The predicted class is 1, the distances are class 0: 0.912112866506 and class 1: 0.90046812825\n",
      "The predicted class is 1, the distances are class 0: 0.951437303364 and class 1: 0.771309768692\n",
      "The predicted class is 1, the distances are class 0: 0.958057665737 and class 1: 0.820313077853\n",
      "The predicted class is 0, the distances are class 0: 0.783995793265 and class 1: 0.95743007454\n",
      "The predicted class is 1, the distances are class 0: 0.975537613065 and class 1: 0.862184347402\n",
      "The predicted class is 1, the distances are class 0: 0.976344678128 and class 1: 0.827511352257\n",
      "The predicted class is 0, the distances are class 0: 0.854446234502 and class 1: 0.910752173544\n",
      "The predicted class is 1, the distances are class 0: 0.970802639767 and class 1: 0.834464539534\n",
      "The predicted class is 0, the distances are class 0: 0.703741832306 and class 1: 0.90727380736\n",
      "The predicted class is 1, the distances are class 0: 0.971278065289 and class 1: 0.806656605902\n",
      "The predicted class is 0, the distances are class 0: 0.910411540611 and class 1: 0.919259609693\n",
      "The predicted class is 0, the distances are class 0: 0.820944310084 and class 1: 0.970411592531\n",
      "The predicted class is 1, the distances are class 0: 0.943069123712 and class 1: 0.813649179839\n",
      "The predicted class is 1, the distances are class 0: 0.962070606811 and class 1: 0.828318767188\n",
      "The predicted class is 0, the distances are class 0: 0.83372740987 and class 1: 0.955213435577\n",
      "The predicted class is 0, the distances are class 0: 0.9048671254 and class 1: 0.922616869764\n",
      "The predicted class is 0, the distances are class 0: 0.893776030808 and class 1: 0.976860491193\n",
      "The predicted class is 0, the distances are class 0: 0.866598805233 and class 1: 0.963086205709\n",
      "The predicted class is 0, the distances are class 0: 0.632460256175 and class 1: 0.938841038254\n",
      "The predicted class is 0, the distances are class 0: 0.905819260938 and class 1: 0.963929494393\n",
      "The predicted class is 0, the distances are class 0: 0.873236218451 and class 1: 0.941273893485\n",
      "The predicted class is 0, the distances are class 0: 0.71525058356 and class 1: 0.941789709147\n",
      "The predicted class is 1, the distances are class 0: 0.944511902006 and class 1: 0.662912471334\n",
      "The predicted class is 1, the distances are class 0: 0.968242844103 and class 1: 0.870868258592\n",
      "The predicted class is 1, the distances are class 0: 0.970640429003 and class 1: 0.755265724011\n",
      "The predicted class is 0, the distances are class 0: 0.850969025999 and class 1: 0.964827096736\n",
      "The predicted class is 1, the distances are class 0: 0.96750929432 and class 1: 0.842375844122\n",
      "The predicted class is 1, the distances are class 0: 0.95119962698 and class 1: 0.922974678984\n",
      "The predicted class is 1, the distances are class 0: 0.950624535972 and class 1: 0.878565279443\n",
      "The predicted class is 0, the distances are class 0: 0.850333601576 and class 1: 0.948070051929\n",
      "The predicted class is 0, the distances are class 0: 0.796633857085 and class 1: 0.929833280579\n",
      "The predicted class is 0, the distances are class 0: 0.740202321093 and class 1: 0.936794757993\n",
      "The predicted class is 1, the distances are class 0: 0.972192184292 and class 1: 0.870599299362\n",
      "The predicted class is 0, the distances are class 0: 0.864322620111 and class 1: 0.968541731811\n",
      "The predicted class is 0, the distances are class 0: 0.891059743972 and class 1: 0.978017182764\n",
      "The predicted class is 1, the distances are class 0: 0.971692511374 and class 1: 0.869228127606\n",
      "The predicted class is 1, the distances are class 0: 0.931474567429 and class 1: 0.917181925702\n",
      "The predicted class is 1, the distances are class 0: 0.968183148519 and class 1: 0.805192309973\n",
      "The predicted class is 0, the distances are class 0: 0.965082948232 and class 1: 0.967947060249\n",
      "The predicted class is 0, the distances are class 0: 0.883485879406 and class 1: 0.914253312927\n",
      "The predicted class is 1, the distances are class 0: 0.983732778671 and class 1: 0.886773468503\n",
      "The predicted class is 0, the distances are class 0: 0.866528334459 and class 1: 0.93359171325\n",
      "The predicted class is 0, the distances are class 0: 0.867068110809 and class 1: 0.949384719063\n",
      "The predicted class is 1, the distances are class 0: 0.931541347796 and class 1: 0.692049108297\n",
      "The predicted class is 1, the distances are class 0: 0.945526508427 and class 1: 0.769954703502\n",
      "The predicted class is 0, the distances are class 0: 0.808891403022 and class 1: 0.945782214771\n",
      "The predicted class is 0, the distances are class 0: 0.818281400641 and class 1: 0.962894081718\n",
      "The predicted class is 0, the distances are class 0: 0.897156676012 and class 1: 0.982080977116\n",
      "The predicted class is 1, the distances are class 0: 0.966011971669 and class 1: 0.858626039941\n",
      "The predicted class is 1, the distances are class 0: 0.976308907837 and class 1: 0.816801931776\n",
      "The predicted class is 0, the distances are class 0: 0.850878832741 and class 1: 0.945987383393\n",
      "The predicted class is 1, the distances are class 0: 0.929022010993 and class 1: 0.845736089777\n",
      "The predicted class is 0, the distances are class 0: 0.834484496838 and class 1: 0.949635798777\n",
      "The predicted class is 0, the distances are class 0: 0.860668752733 and class 1: 0.972010523562\n",
      "The predicted class is 1, the distances are class 0: 0.93876506752 and class 1: 0.786430742305\n",
      "The predicted class is 1, the distances are class 0: 0.949556960018 and class 1: 0.841553119886\n",
      "The predicted class is 1, the distances are class 0: 0.955061599346 and class 1: 0.834422241865\n",
      "The predicted class is 1, the distances are class 0: 0.909334305774 and class 1: 0.615601387785\n",
      "The predicted class is 0, the distances are class 0: 0.893292258 and class 1: 0.934746781895\n",
      "The predicted class is 0, the distances are class 0: 0.929218532723 and class 1: 0.956842735068\n",
      "The predicted class is 1, the distances are class 0: 0.949282892056 and class 1: 0.765292535792\n",
      "The predicted class is 0, the distances are class 0: 0.764447690994 and class 1: 0.941334893693\n",
      "The predicted class is 1, the distances are class 0: 0.958249701575 and class 1: 0.876851279873\n",
      "The predicted class is 0, the distances are class 0: 0.845063125875 and class 1: 0.972080802684\n",
      "The predicted class is 0, the distances are class 0: 0.759277285566 and class 1: 0.909700081754\n",
      "The predicted class is 1, the distances are class 0: 0.933906345779 and class 1: 0.681542854155\n",
      "The predicted class is 1, the distances are class 0: 0.975478743079 and class 1: 0.879705049064\n",
      "The predicted class is 0, the distances are class 0: 0.769827568593 and class 1: 0.930706645539\n",
      "The predicted class is 1, the distances are class 0: 0.930605965964 and class 1: 0.798876332166\n",
      "The predicted class is 1, the distances are class 0: 0.956263754651 and class 1: 0.791632764841\n",
      "The predicted class is 0, the distances are class 0: 0.844554039277 and class 1: 0.947914764267\n",
      "The predicted class is 0, the distances are class 0: 0.883889426922 and class 1: 0.949483370816\n",
      "The predicted class is 0, the distances are class 0: 0.794110857352 and class 1: 0.933628796391\n",
      "The predicted class is 0, the distances are class 0: 0.473340604242 and class 1: 0.87783354851\n",
      "The predicted class is 0, the distances are class 0: 0.792352039604 and class 1: 0.948602474672\n",
      "The predicted class is 1, the distances are class 0: 0.974509594634 and class 1: 0.895056273977\n",
      "The predicted class is 0, the distances are class 0: 0.898563463113 and class 1: 0.952010941834\n",
      "The predicted class is 1, the distances are class 0: 0.968517641378 and class 1: 0.846181979176\n",
      "The predicted class is 0, the distances are class 0: 0.860788978623 and class 1: 0.987670231706\n",
      "The predicted class is 1, the distances are class 0: 0.970625205589 and class 1: 0.927323327579\n",
      "The predicted class is 0, the distances are class 0: 0.795978287889 and class 1: 0.970360002946\n",
      "The predicted class is 0, the distances are class 0: 0.849169976355 and class 1: 0.942264389996\n",
      "The predicted class is 1, the distances are class 0: 0.975914082619 and class 1: 0.930793921608\n",
      "The predicted class is 0, the distances are class 0: 0.913657763535 and class 1: 0.99459465454\n",
      "The predicted class is 0, the distances are class 0: 0.806856232934 and class 1: 0.954169015949\n",
      "The predicted class is 1, the distances are class 0: 0.966557594222 and class 1: 0.803503902079\n",
      "The predicted class is 0, the distances are class 0: 0.846137874065 and class 1: 0.949213327308\n",
      "The predicted class is 0, the distances are class 0: 0.843398428588 and class 1: 0.943063228008\n",
      "The predicted class is 0, the distances are class 0: 0.860230744946 and class 1: 0.973319084336\n",
      "The predicted class is 1, the distances are class 0: 0.93986909116 and class 1: 0.849170138437\n",
      "The predicted class is 1, the distances are class 0: 0.951749075193 and class 1: 0.73287113478\n",
      "The predicted class is 0, the distances are class 0: 0.841234069969 and class 1: 0.951218110392\n",
      "The predicted class is 1, the distances are class 0: 0.925712204421 and class 1: 0.913864817765\n",
      "The predicted class is 0, the distances are class 0: 0.883131789738 and class 1: 0.98087750895\n",
      "The predicted class is 0, the distances are class 0: 0.886839930805 and class 1: 0.975443065525\n",
      "The predicted class is 0, the distances are class 0: 0.834076277172 and class 1: 0.944120436063\n",
      "The predicted class is 1, the distances are class 0: 0.981892712234 and class 1: 0.921488822258\n",
      "The predicted class is 1, the distances are class 0: 0.966517599305 and class 1: 0.894743950551\n",
      "The predicted class is 1, the distances are class 0: 0.971953832142 and class 1: 0.827031993683\n",
      "The predicted class is 0, the distances are class 0: 0.856869416834 and class 1: 0.951983537536\n",
      "The predicted class is 1, the distances are class 0: 0.924465437922 and class 1: 0.881620611184\n",
      "The predicted class is 1, the distances are class 0: 0.945189277489 and class 1: 0.863266185227\n",
      "The predicted class is 0, the distances are class 0: 0.922893967803 and class 1: 0.944529360623\n",
      "The predicted class is 1, the distances are class 0: 0.990123752576 and class 1: 0.967247258558\n",
      "The predicted class is 1, the distances are class 0: 0.937837024159 and class 1: 0.686512789414\n",
      "The predicted class is 0, the distances are class 0: 0.786229935157 and class 1: 0.917840573582\n",
      "The predicted class is 0, the distances are class 0: 0.817166671619 and class 1: 0.953966546039\n",
      "The predicted class is 1, the distances are class 0: 0.954698754734 and class 1: 0.920925670937\n",
      "The predicted class is 1, the distances are class 0: 0.97120712057 and class 1: 0.841520138116\n",
      "The predicted class is 1, the distances are class 0: 0.902381434645 and class 1: 0.691327483838\n",
      "The predicted class is 0, the distances are class 0: 0.909246171001 and class 1: 0.938059028653\n",
      "The predicted class is 1, the distances are class 0: 0.949551645472 and class 1: 0.88317104554\n",
      "The predicted class is 1, the distances are class 0: 0.938764634131 and class 1: 0.681048603272\n",
      "The predicted class is 0, the distances are class 0: 0.817135778617 and class 1: 0.956501908724\n",
      "The predicted class is 1, the distances are class 0: 0.979019924543 and class 1: 0.95380904194\n",
      "The predicted class is 1, the distances are class 0: 0.950998047269 and class 1: 0.806522112911\n",
      "The predicted class is 0, the distances are class 0: 0.783372527713 and class 1: 0.939094612844\n",
      "The predicted class is 1, the distances are class 0: 0.971920490514 and class 1: 0.803347876393\n",
      "The predicted class is 0, the distances are class 0: 0.917209068999 and class 1: 0.961618842033\n",
      "The predicted class is 0, the distances are class 0: 0.911840310252 and class 1: 0.923614237979\n",
      "The predicted class is 1, the distances are class 0: 0.966394902099 and class 1: 0.835977373697\n",
      "The predicted class is 1, the distances are class 0: 0.956624201775 and class 1: 0.879578170122\n",
      "The predicted class is 0, the distances are class 0: 0.899885479165 and class 1: 0.970724964876\n",
      "The predicted class is 1, the distances are class 0: 0.939992600511 and class 1: 0.726722918003\n",
      "The predicted class is 1, the distances are class 0: 0.957025989279 and class 1: 0.811206732494\n",
      "The predicted class is 0, the distances are class 0: 0.811236048627 and class 1: 0.939037874972\n",
      "The predicted class is 1, the distances are class 0: 0.959206233264 and class 1: 0.841070132494\n",
      "The predicted class is 1, the distances are class 0: 0.983609380165 and class 1: 0.876825810449\n",
      "The predicted class is 0, the distances are class 0: 0.823669117552 and class 1: 0.945132061973\n",
      "The predicted class is 1, the distances are class 0: 0.983684881162 and class 1: 0.953521407175\n",
      "The predicted class is 1, the distances are class 0: 0.972033335777 and class 1: 0.925742994823\n",
      "The predicted class is 1, the distances are class 0: 0.954047909561 and class 1: 0.770210240343\n",
      "The predicted class is 1, the distances are class 0: 0.920370215689 and class 1: 0.856794440163\n",
      "The predicted class is 0, the distances are class 0: 0.823464990121 and class 1: 0.952179039471\n",
      "The predicted class is 0, the distances are class 0: 0.843403656737 and class 1: 0.902514033051\n",
      "The predicted class is 0, the distances are class 0: 0.906719476036 and class 1: 0.963108876217\n",
      "The predicted class is 1, the distances are class 0: 0.92823430699 and class 1: 0.860292338434\n",
      "The predicted class is 0, the distances are class 0: 0.814106321831 and class 1: 0.961523166724\n",
      "The predicted class is 0, the distances are class 0: 0.529663561265 and class 1: 0.860698002927\n",
      "The predicted class is 1, the distances are class 0: 0.948234464088 and class 1: 0.891219291179\n",
      "The predicted class is 0, the distances are class 0: 0.881301181114 and class 1: 0.955363052733\n",
      "The predicted class is 1, the distances are class 0: 0.923959852345 and class 1: 0.910655472873\n",
      "The predicted class is 1, the distances are class 0: 0.980901631507 and class 1: 0.816092615486\n",
      "The predicted class is 0, the distances are class 0: 0.843025739418 and class 1: 0.957972966327\n",
      "The predicted class is 1, the distances are class 0: 0.97646834824 and class 1: 0.837770051377\n",
      "The predicted class is 0, the distances are class 0: 0.815431888052 and class 1: 0.953406715452\n",
      "The predicted class is 0, the distances are class 0: 0.798696657495 and class 1: 0.948068078029\n",
      "The predicted class is 1, the distances are class 0: 0.920216296974 and class 1: 0.830603589932\n",
      "The predicted class is 1, the distances are class 0: 0.930498669618 and class 1: 0.719475449631\n",
      "The predicted class is 1, the distances are class 0: 0.973682969683 and class 1: 0.906485593082\n",
      "The predicted class is 0, the distances are class 0: 0.916170208691 and class 1: 0.957997900293\n",
      "The predicted class is 0, the distances are class 0: 0.889954206265 and class 1: 0.963117356033\n",
      "The predicted class is 1, the distances are class 0: 0.964259694851 and class 1: 0.860355146204\n",
      "The predicted class is 0, the distances are class 0: 0.775581736969 and class 1: 0.951394337948\n",
      "The predicted class is 0, the distances are class 0: 0.860691159528 and class 1: 0.959847082876\n",
      "The predicted class is 0, the distances are class 0: 0.916108918008 and class 1: 0.958362750801\n",
      "The predicted class is 0, the distances are class 0: 0.844197096487 and class 1: 0.964875524148\n",
      "The predicted class is 1, the distances are class 0: 0.946092951348 and class 1: 0.819151059714\n",
      "The predicted class is 1, the distances are class 0: 0.96330990806 and class 1: 0.777741038533\n",
      "The predicted class is 1, the distances are class 0: 0.970213749283 and class 1: 0.811245054405\n",
      "The predicted class is 0, the distances are class 0: 0.805334865404 and class 1: 0.942411251723\n",
      "The predicted class is 0, the distances are class 0: 0.866995371357 and class 1: 0.951764456512\n",
      "The predicted class is 0, the distances are class 0: 0.941081427123 and class 1: 0.973671023071\n",
      "The predicted class is 1, the distances are class 0: 0.944337050688 and class 1: 0.843331198031\n",
      "The predicted class is 0, the distances are class 0: 0.782160601333 and class 1: 0.925579110616\n",
      "The predicted class is 0, the distances are class 0: 0.859997236028 and class 1: 0.9466780728\n",
      "The predicted class is 1, the distances are class 0: 0.960791639506 and class 1: 0.902839700083\n",
      "The predicted class is 0, the distances are class 0: 0.903643865226 and class 1: 0.940028396322\n",
      "The predicted class is 1, the distances are class 0: 0.965063811496 and class 1: 0.866333244757\n",
      "The predicted class is 1, the distances are class 0: 0.981078966599 and class 1: 0.8760537051\n",
      "The predicted class is 1, the distances are class 0: 0.949708700119 and class 1: 0.837360551898\n",
      "The predicted class is 0, the distances are class 0: 0.86974179124 and class 1: 0.945396407113\n",
      "The predicted class is 1, the distances are class 0: 0.904535992497 and class 1: 0.778861548436\n",
      "The predicted class is 1, the distances are class 0: 0.979640748031 and class 1: 0.847535177724\n",
      "The predicted class is 0, the distances are class 0: 0.827563264903 and class 1: 0.943081074092\n",
      "The predicted class is 1, the distances are class 0: 0.923524662446 and class 1: 0.761447104344\n",
      "The predicted class is 0, the distances are class 0: 0.695310662399 and class 1: 0.934363786556\n",
      "The predicted class is 1, the distances are class 0: 0.94319799434 and class 1: 0.852051072806\n",
      "The predicted class is 1, the distances are class 0: 0.976639289799 and class 1: 0.865727864124\n",
      "The predicted class is 1, the distances are class 0: 0.978498594171 and class 1: 0.826248818703\n",
      "The predicted class is 1, the distances are class 0: 0.964331314481 and class 1: 0.847799436571\n",
      "The predicted class is 0, the distances are class 0: 0.847080228182 and class 1: 0.943400855491\n",
      "The predicted class is 1, the distances are class 0: 0.965107051534 and class 1: 0.844577305047\n",
      "The predicted class is 0, the distances are class 0: 0.902251901258 and class 1: 0.966467498124\n",
      "The predicted class is 1, the distances are class 0: 0.961062201824 and class 1: 0.84944235441\n",
      "The predicted class is 0, the distances are class 0: 0.911307765117 and class 1: 0.982318873968\n",
      "The predicted class is 1, the distances are class 0: 0.977759479282 and class 1: 0.957950289643\n",
      "The predicted class is 1, the distances are class 0: 0.983544068394 and class 1: 0.96078406925\n",
      "The predicted class is 0, the distances are class 0: 0.910482985406 and class 1: 0.952271349297\n",
      "The predicted class is 0, the distances are class 0: 0.742781666615 and class 1: 0.923915534651\n",
      "The predicted class is 0, the distances are class 0: 0.88338968012 and class 1: 0.957372362327\n",
      "The predicted class is 0, the distances are class 0: 0.81659070512 and class 1: 0.949174251117\n",
      "The predicted class is 0, the distances are class 0: 0.909671995776 and class 1: 0.930553505605\n",
      "The predicted class is 1, the distances are class 0: 0.949704384497 and class 1: 0.907052130785\n",
      "The predicted class is 1, the distances are class 0: 0.982159202383 and class 1: 0.722503407931\n",
      "The predicted class is 0, the distances are class 0: 0.779972813655 and class 1: 0.977971896695\n",
      "The predicted class is 1, the distances are class 0: 0.914011669388 and class 1: 0.804921719767\n",
      "The predicted class is 1, the distances are class 0: 0.960957109257 and class 1: 0.879523313823\n"
     ]
    },
    {
     "data": {
      "text/plain": [
       "0.98"
      ]
     },
     "execution_count": 91,
     "metadata": {},
     "output_type": "execute_result"
    }
   ],
   "source": [
    "accuracyTestRocchio()"
   ]
  }
 ],
 "metadata": {
  "kernelspec": {
   "display_name": "Python 2",
   "language": "python",
   "name": "python2"
  },
  "language_info": {
   "codemirror_mode": {
    "name": "ipython",
    "version": 2
   },
   "file_extension": ".py",
   "mimetype": "text/x-python",
   "name": "python",
   "nbconvert_exporter": "python",
   "pygments_lexer": "ipython2",
   "version": "2.7.11"
  }
 },
 "nbformat": 4,
 "nbformat_minor": 0
}
